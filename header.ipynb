{
 "cells": [
  {
   "cell_type": "code",
   "execution_count": 1,
   "metadata": {},
   "outputs": [],
   "source": [
    "from ruamel.yaml import YAML\n",
    "import yaml\n",
    "import json"
   ]
  },
  {
   "cell_type": "code",
   "execution_count": 93,
   "metadata": {},
   "outputs": [],
   "source": [
    "i = 1\n",
    "textList = []\n",
    "headList = []\n",
    "indiceList = []\n",
    "myHead = \"\"\n",
    "myText = \"\"\n",
    "h1 = False\n",
    "h2 = False\n",
    "while i <= 12175:\n",
    "    try:\n",
    "        h1 = False\n",
    "        h2 = False\n",
    "        text = open( 'text/'+ str(i) + '.text',\"r\",encoding='utf-8')\n",
    "        indiceList.append(i)\n",
    "        for line in text:\n",
    "            if(h1 and not \"---\" in line and not h2):\n",
    "                myHead += line\n",
    "            if(\"---\" in line):\n",
    "                if h1:\n",
    "                    h2 = True\n",
    "                    continue\n",
    "                h1 = True\n",
    "            if (h2 and h1):\n",
    "                myText = myText + line\n",
    "        i += 1\n",
    "        headList.append(myHead)\n",
    "        textList.append(myText[1:])\n",
    "        myHead = \"\"\n",
    "        myText = \"\"\n",
    "    except:\n",
    "        i = i+1"
   ]
  },
  {
   "cell_type": "code",
   "execution_count": 96,
   "metadata": {},
   "outputs": [
    {
     "name": "stdout",
     "output_type": "stream",
     "text": [
      "title: COELHO, Machado\n",
      "natureza: biográfico\n",
      "sexo: m\n",
      "cargos:\n",
      " - dep. fed. DF 1927-1929 \n",
      " - dep. fed. DF 1930\n",
      " - const. 1946\n",
      " - dep. fed. SP 1946-1951\n",
      "\n"
     ]
    }
   ],
   "source": [
    "print(headList[0])"
   ]
  },
  {
   "cell_type": "code",
   "execution_count": 101,
   "metadata": {},
   "outputs": [],
   "source": [
    "result = {}\n",
    "j = 0\n",
    "while j < len(headList):\n",
    "    yaml_object = yaml.safe_load(headList[j])\n",
    "    yaml_object['document'] = indiceList[j]\n",
    "    yaml_object['text'] = textList[j]\n",
    "    result[indiceList[j]] = yaml_object\n",
    "    j+=1"
   ]
  },
  {
   "cell_type": "code",
   "execution_count": 103,
   "metadata": {},
   "outputs": [
    {
     "name": "stdout",
     "output_type": "stream",
     "text": [
      "{'title': 'AÇÃO CÍVICA NACIONAL', 'natureza': 'temático', 'tipo': ['Organização'], 'subtipo': ['Político-administrativa'], 'document': 5703, 'text': 'Partido político do Rio de Janeiro (então Distrito Federal) fundado em\\nmarço de 1933. Sua comissão central executiva era integrada por Luís\\nMezavilla, Dagoberto Zatarro, Gil de Saint Clair Amora, Tertuliano\\nAntônio da Fonseca Lessa, Mário Bethlem, G. A. de Lima Torres e João\\nBatista Veríssimo. A orientação impressa ao partido por seus fundadores\\nbaseava-se no conceito de Alberto Torres de que “a idéia corporativa é a\\ncaracterística do nosso estado social”. De seu programa constavam a luta\\npela unidade nacional, a representação, o saneamento político, a\\njustiça, a educação e a nacionalização da economia, e a defesa da\\nreorganização política do país em bases novas, independente de quaisquer\\ncoligações políticas.\\n\\n'}\n"
     ]
    }
   ],
   "source": [
    "print(result[5703])"
   ]
  },
  {
   "cell_type": "code",
   "execution_count": 104,
   "metadata": {},
   "outputs": [],
   "source": [
    "list_numbers = []\n",
    "tematico = []\n",
    "for i in result:\n",
    "    list_numbers.append(i)\n",
    "for j in list_numbers:\n",
    "    if result[j]['natureza'] == 'temático':\n",
    "        tematico.append(result[j])"
   ]
  },
  {
   "cell_type": "code",
   "execution_count": 105,
   "metadata": {},
   "outputs": [
    {
     "name": "stdout",
     "output_type": "stream",
     "text": [
      "{'title': 'AÇÃO CÍVICA NACIONAL', 'natureza': 'temático', 'tipo': ['Organização'], 'subtipo': ['Político-administrativa'], 'document': 5703, 'text': 'Partido político do Rio de Janeiro (então Distrito Federal) fundado em\\nmarço de 1933. Sua comissão central executiva era integrada por Luís\\nMezavilla, Dagoberto Zatarro, Gil de Saint Clair Amora, Tertuliano\\nAntônio da Fonseca Lessa, Mário Bethlem, G. A. de Lima Torres e João\\nBatista Veríssimo. A orientação impressa ao partido por seus fundadores\\nbaseava-se no conceito de Alberto Torres de que “a idéia corporativa é a\\ncaracterística do nosso estado social”. De seu programa constavam a luta\\npela unidade nacional, a representação, o saneamento político, a\\njustiça, a educação e a nacionalização da economia, e a defesa da\\nreorganização política do país em bases novas, independente de quaisquer\\ncoligações políticas.\\n\\n'}\n"
     ]
    }
   ],
   "source": [
    "print(result[5703])"
   ]
  },
  {
   "cell_type": "code",
   "execution_count": 107,
   "metadata": {},
   "outputs": [],
   "source": [
    "yaml = YAML(typ='safe')\n",
    "with open(\"data.yaml\", 'r', encoding='utf-8') as file:\n",
    "    docs = list(yaml.load_all(file))"
   ]
  },
  {
   "cell_type": "code",
   "execution_count": 108,
   "metadata": {},
   "outputs": [],
   "source": [
    "list_docs = []\n",
    "for i in range(len(docs)-1):\n",
    "    j = docs[i]['document']\n",
    "    result[j].update(docs[i])\n",
    "    list_docs.append(result[j])\n",
    "for k in range(len(tematico)):\n",
    "    list_docs.append(tematico[k])"
   ]
  },
  {
   "cell_type": "code",
   "execution_count": 109,
   "metadata": {},
   "outputs": [],
   "source": [
    "with open(\"data.json\", 'w', encoding='utf-8') as file:\n",
    "    json.dump(list_docs, file, indent=2, ensure_ascii=False)"
   ]
  }
 ],
 "metadata": {
  "interpreter": {
   "hash": "b3ba2566441a7c06988d0923437866b63cedc61552a5af99d1f4fb67d367b25f"
  },
  "kernelspec": {
   "display_name": "Python 3.8.8 64-bit ('base': conda)",
   "language": "python",
   "name": "python3"
  },
  "language_info": {
   "codemirror_mode": {
    "name": "ipython",
    "version": 3
   },
   "file_extension": ".py",
   "mimetype": "text/x-python",
   "name": "python",
   "nbconvert_exporter": "python",
   "pygments_lexer": "ipython3",
   "version": "3.9.1"
  },
  "orig_nbformat": 4
 },
 "nbformat": 4,
 "nbformat_minor": 2
}
