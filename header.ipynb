{
 "cells": [
  {
   "cell_type": "code",
   "execution_count": 18,
   "metadata": {},
   "outputs": [],
   "source": [
    "# from ruamel.yaml import YAML\n",
    "# import sys\n",
    "import yaml"
   ]
  },
  {
   "cell_type": "code",
   "execution_count": 32,
   "metadata": {},
   "outputs": [],
   "source": [
    "i = 1\n",
    "textList = []\n",
    "headList = []\n",
    "indiceList = []\n",
    "myHead = \"\"\n",
    "myText = \"\"\n",
    "h1 = False\n",
    "h2 = False\n",
    "while i <= 12175:\n",
    "    try:\n",
    "        indiceList.append(i)\n",
    "        h1 = False\n",
    "        h2 = False\n",
    "        text = open( 'dhbb/text/'+ str(i) + '.text',\"r\",encoding='utf-8')\n",
    "        for line in text:\n",
    "            if(h1 and not \"---\" in line and not h2):\n",
    "                myHead += line\n",
    "            if(\"---\" in line):\n",
    "                if h1:\n",
    "                    h2 = True\n",
    "                    continue\n",
    "                h1 = True\n",
    "            if (h2 and h1):\n",
    "                myText = myText + line\n",
    "        i += 1\n",
    "        headList.append(myHead)\n",
    "        textList.append(myText[2:])\n",
    "        myHead = \"\"\n",
    "        myText = \"\"\n",
    "    except:\n",
    "        i = i+1"
   ]
  },
  {
   "cell_type": "code",
   "execution_count": 5,
   "metadata": {},
   "outputs": [
    {
     "name": "stdout",
     "output_type": "stream",
     "text": [
      "José Machado Coelho de Castro» nasceu em Lorena (SP).\n",
      "\n",
      "Estudou no Ginásio Diocesano de São Paulo e bacharelou-se em 1910 pela\n",
      "Faculdade de Ciências Jurídicas e Sociais. Dedicando-se à advocacia, foi\n",
      "promotor público em Cunha (SP) e depois delegado de polícia no Rio de\n",
      "Janeiro, então Distrito Federal.\n",
      "\n",
      "Iniciou sua vida política como deputado federal pelo Distrito Federal,\n",
      "exercendo o mandato de 1927 a 1929. Reeleito para a legislatura iniciada\n",
      "em maio de 1930, ocupava sua cadeira na Câmara quando, em 3 de outubro,\n",
      "foi deflagrado o movimento revolucionário liderado por Getúlio Vargas.\n",
      "Ligado ao governo federal, encontrava-se ao lado do presidente\n",
      "Washington Luís, no palácio Guanabara, no momento de sua deposição no\n",
      "dia 24 de outubro. Junto com outros companheiros também solidários ao\n",
      "regime deposto e que se haviam asilado em embaixadas e legações, foi\n",
      "enviado em novembro para o estrangeiro. Em outubro de 1932, estava\n",
      "presente no porto de Alcântara, em Lisboa, para receber os\n",
      "revolucionários constitucionalistas exilados pelo governo de Getúlio\n",
      "Vargas após a derrota da revolução irrompida em julho desse ano em São\n",
      "Paulo.\n",
      "\n",
      "Com a redemocratização do país em 1945, candidatou-se pelo estado de São\n",
      "Paulo, na legenda do Partido Social Democrático (PSD), às eleições para\n",
      "a Assembléia Nacional Constituinte (ANC) realizadas em dezembro desse\n",
      "ano. Obteve uma suplência e, em julho de 1946, foi convocado para\n",
      "participar dos trabalhos constituintes. Com a promulgação da nova Carta\n",
      "(18/9/1946) e a transformação da Constituinte em Congresso ordinário,\n",
      "integrou a Comissão Permanente de Obras Públicas da Câmara Federal,\n",
      "tendo votado em janeiro de 1948 a favor da cassação dos mandatos dos\n",
      "parlamentares comunistas. Deixou a Câmara em janeiro de 1951.\n",
      "\n",
      "Foi ainda presidente da Companhia de Cimento Vale do Paraíba.\n",
      "\n",
      "Faleceu no Rio de Janeiro no dia 17 de maio de 1975.\n",
      "\n",
      "\n"
     ]
    }
   ],
   "source": [
    "print(textList[0])"
   ]
  },
  {
   "cell_type": "code",
   "execution_count": 33,
   "metadata": {},
   "outputs": [
    {
     "name": "stdout",
     "output_type": "stream",
     "text": [
      "title: COELHO, Machado\n",
      "natureza: biográfico\n",
      "sexo: m\n",
      "cargos:\n",
      " - dep. fed. DF 1927-1929 \n",
      " - dep. fed. DF 1930\n",
      " - const. 1946\n",
      " - dep. fed. SP 1946-1951\n",
      "\n"
     ]
    }
   ],
   "source": [
    "print(headList[0])"
   ]
  },
  {
   "cell_type": "code",
   "execution_count": 34,
   "metadata": {},
   "outputs": [],
   "source": [
    "# yaml = YAML()\n",
    "# yaml.dump(headList[0], sys.stdout)\n",
    "\n",
    "result = []\n",
    "j = 0\n",
    "while j < len(headList):\n",
    "    yaml_object = yaml.safe_load(headList[j])\n",
    "    yaml_object['document'] = indiceList[j]\n",
    "    yaml_object['text'] = textList[j]\n",
    "    result.append(yaml_object)\n",
    "    j+=1"
   ]
  },
  {
   "cell_type": "code",
   "execution_count": 37,
   "metadata": {},
   "outputs": [
    {
     "name": "stdout",
     "output_type": "stream",
     "text": [
      "{'title': 'COELHO, Machado', 'natureza': 'biográfico', 'sexo': 'm', 'cargos': ['dep. fed. DF 1927-1929', 'dep. fed. DF 1930', 'const. 1946', 'dep. fed. SP 1946-1951'], 'document': 1, 'text': 'José Machado Coelho de Castro» nasceu em Lorena (SP).\\n\\nEstudou no Ginásio Diocesano de São Paulo e bacharelou-se em 1910 pela\\nFaculdade de Ciências Jurídicas e Sociais. Dedicando-se à advocacia, foi\\npromotor público em Cunha (SP) e depois delegado de polícia no Rio de\\nJaneiro, então Distrito Federal.\\n\\nIniciou sua vida política como deputado federal pelo Distrito Federal,\\nexercendo o mandato de 1927 a 1929. Reeleito para a legislatura iniciada\\nem maio de 1930, ocupava sua cadeira na Câmara quando, em 3 de outubro,\\nfoi deflagrado o movimento revolucionário liderado por Getúlio Vargas.\\nLigado ao governo federal, encontrava-se ao lado do presidente\\nWashington Luís, no palácio Guanabara, no momento de sua deposição no\\ndia 24 de outubro. Junto com outros companheiros também solidários ao\\nregime deposto e que se haviam asilado em embaixadas e legações, foi\\nenviado em novembro para o estrangeiro. Em outubro de 1932, estava\\npresente no porto de Alcântara, em Lisboa, para receber os\\nrevolucionários constitucionalistas exilados pelo governo de Getúlio\\nVargas após a derrota da revolução irrompida em julho desse ano em São\\nPaulo.\\n\\nCom a redemocratização do país em 1945, candidatou-se pelo estado de São\\nPaulo, na legenda do Partido Social Democrático (PSD), às eleições para\\na Assembléia Nacional Constituinte (ANC) realizadas em dezembro desse\\nano. Obteve uma suplência e, em julho de 1946, foi convocado para\\nparticipar dos trabalhos constituintes. Com a promulgação da nova Carta\\n(18/9/1946) e a transformação da Constituinte em Congresso ordinário,\\nintegrou a Comissão Permanente de Obras Públicas da Câmara Federal,\\ntendo votado em janeiro de 1948 a favor da cassação dos mandatos dos\\nparlamentares comunistas. Deixou a Câmara em janeiro de 1951.\\n\\nFoi ainda presidente da Companhia de Cimento Vale do Paraíba.\\n\\nFaleceu no Rio de Janeiro no dia 17 de maio de 1975.\\n\\n'}\n"
     ]
    }
   ],
   "source": [
    "print(result[0])"
   ]
  }
 ],
 "metadata": {
  "interpreter": {
   "hash": "b3ba2566441a7c06988d0923437866b63cedc61552a5af99d1f4fb67d367b25f"
  },
  "kernelspec": {
   "display_name": "Python 3.8.8 64-bit ('base': conda)",
   "language": "python",
   "name": "python3"
  },
  "language_info": {
   "codemirror_mode": {
    "name": "ipython",
    "version": 3
   },
   "file_extension": ".py",
   "mimetype": "text/x-python",
   "name": "python",
   "nbconvert_exporter": "python",
   "pygments_lexer": "ipython3",
   "version": "3.8.8"
  },
  "orig_nbformat": 4
 },
 "nbformat": 4,
 "nbformat_minor": 2
}
